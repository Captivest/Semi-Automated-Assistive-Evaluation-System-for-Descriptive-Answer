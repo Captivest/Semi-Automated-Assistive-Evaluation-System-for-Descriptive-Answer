{
  "cells": [
    {
      "cell_type": "markdown",
      "metadata": {
        "id": "XUMe_zSR-XMj"
      },
      "source": [
        "### **Text**"
      ]
    },
    {
      "cell_type": "code",
      "execution_count": 1,
      "metadata": {
        "id": "PtPcnXBE-bgV"
      },
      "outputs": [],
      "source": [
        "sentence1 = \"Rowlatt Act gave the government enormous powers to suppress political activities and allowed detention of political prisoners without trial for two years. In other words, the Act proposed no appeal, no vakil and no daleel.\"\n",
        "sentencea1=\"The Rowlatt Act granted the government broad powers to restrict political activity and permitted political prisoners to be held indefinitely without charge or trial. To put it another way, the Act proposed no appeal, vakil, or daleel.\"\n",
        "sentence2 = \"\"\"Supervised learning is the machine learning task of learning a function that\n",
        "         maps an input to an output based on example input-output pairs. It infers a\n",
        "         function from labeled training data consisting of a set of training examples.\n",
        "         In supervised learning, each example is a pair consisting of an input object\n",
        "         (typically a vector) and a desired output value (also called the supervisory signal). \n",
        "         A supervised learning algorithm analyzes the training data and produces an inferred function, \n",
        "         which can be used for mapping new examples. An optimal scenario will allow for the \n",
        "         algorithm to correctly determine the class labels for unseen instances. This requires \n",
        "         the learning algorithm to generalize from the training data to unseen situations in a \n",
        "         'reasonable' way (see inductive bias). encode sentences to get their embeddings\"\"\"\n",
        "text=\"The Rowlatt Act granted the government broad powers to restrict political activity and permitted political prisoners to be held indefinitely without charge or trial. To put it another way, the Act proposed no appeal, vakil, or daleel.\"\n"
      ]
    },
    {
      "cell_type": "markdown",
      "metadata": {
        "id": "w7UzBaqF-ncj"
      },
      "source": [
        "# **Summary**"
      ]
    },
    {
      "cell_type": "code",
      "execution_count": 2,
      "metadata": {
        "colab": {
          "base_uri": "https://localhost:8080/"
        },
        "id": "muDJDw1LduRP",
        "outputId": "4a3eb061-7696-4bd7-8bff-8f65a1c5c92c"
      },
      "outputs": [
        {
          "name": "stdout",
          "output_type": "stream",
          "text": [
            "Requirement already satisfied: transformers in c:\\users\\swapn\\appdata\\local\\programs\\python\\python39\\lib\\site-packages (4.19.2)\n",
            "Requirement already satisfied: pyyaml>=5.1 in c:\\users\\swapn\\appdata\\local\\programs\\python\\python39\\lib\\site-packages (from transformers) (6.0)\n",
            "Requirement already satisfied: filelock in c:\\users\\swapn\\appdata\\local\\programs\\python\\python39\\lib\\site-packages (from transformers) (3.7.0)\n",
            "Requirement already satisfied: packaging>=20.0 in c:\\users\\swapn\\appdata\\local\\programs\\python\\python39\\lib\\site-packages (from transformers) (21.3)\n",
            "Requirement already satisfied: numpy>=1.17 in c:\\users\\swapn\\appdata\\local\\programs\\python\\python39\\lib\\site-packages (from transformers) (1.22.4)\n",
            "Requirement already satisfied: tokenizers!=0.11.3,<0.13,>=0.11.1 in c:\\users\\swapn\\appdata\\local\\programs\\python\\python39\\lib\\site-packages (from transformers) (0.12.1)\n",
            "Requirement already satisfied: requests in c:\\users\\swapn\\appdata\\local\\programs\\python\\python39\\lib\\site-packages (from transformers) (2.27.1)\n",
            "Requirement already satisfied: huggingface-hub<1.0,>=0.1.0 in c:\\users\\swapn\\appdata\\local\\programs\\python\\python39\\lib\\site-packages (from transformers) (0.6.0)\n",
            "Requirement already satisfied: tqdm>=4.27 in c:\\users\\swapn\\appdata\\local\\programs\\python\\python39\\lib\\site-packages (from transformers) (4.64.0)\n",
            "Requirement already satisfied: regex!=2019.12.17 in c:\\users\\swapn\\appdata\\local\\programs\\python\\python39\\lib\\site-packages (from transformers) (2022.4.24)\n",
            "Requirement already satisfied: typing-extensions>=3.7.4.3 in c:\\users\\swapn\\appdata\\local\\programs\\python\\python39\\lib\\site-packages (from huggingface-hub<1.0,>=0.1.0->transformers) (4.2.0)\n",
            "Requirement already satisfied: pyparsing!=3.0.5,>=2.0.2 in c:\\users\\swapn\\appdata\\local\\programs\\python\\python39\\lib\\site-packages (from packaging>=20.0->transformers) (3.0.9)\n",
            "Requirement already satisfied: colorama in c:\\users\\swapn\\appdata\\local\\programs\\python\\python39\\lib\\site-packages (from tqdm>=4.27->transformers) (0.4.4)\n",
            "Requirement already satisfied: idna<4,>=2.5 in c:\\users\\swapn\\appdata\\local\\programs\\python\\python39\\lib\\site-packages (from requests->transformers) (3.3)\n",
            "Requirement already satisfied: charset-normalizer~=2.0.0 in c:\\users\\swapn\\appdata\\local\\programs\\python\\python39\\lib\\site-packages (from requests->transformers) (2.0.12)\n",
            "Requirement already satisfied: certifi>=2017.4.17 in c:\\users\\swapn\\appdata\\local\\programs\\python\\python39\\lib\\site-packages (from requests->transformers) (2022.5.18.1)\n",
            "Requirement already satisfied: urllib3<1.27,>=1.21.1 in c:\\users\\swapn\\appdata\\local\\programs\\python\\python39\\lib\\site-packages (from requests->transformers) (1.26.9)\n",
            "Note: you may need to restart the kernel to use updated packages.\n"
          ]
        },
        {
          "name": "stderr",
          "output_type": "stream",
          "text": [
            "WARNING: You are using pip version 21.2.4; however, version 22.1.1 is available.\n",
            "You should consider upgrading via the 'c:\\Users\\swapn\\AppData\\Local\\Programs\\Python\\Python39\\python.exe -m pip install --upgrade pip' command.\n"
          ]
        }
      ],
      "source": [
        "pip install transformers"
      ]
    },
    {
      "cell_type": "code",
      "execution_count": 3,
      "metadata": {
        "colab": {
          "base_uri": "https://localhost:8080/"
        },
        "id": "FzXIRa4ILHzz",
        "outputId": "3bed4625-2d18-4c0d-f3f1-e763db34fc79"
      },
      "outputs": [
        {
          "name": "stderr",
          "output_type": "stream",
          "text": [
            "c:\\Users\\swapn\\AppData\\Local\\Programs\\Python\\Python39\\lib\\site-packages\\tqdm\\auto.py:22: TqdmWarning: IProgress not found. Please update jupyter and ipywidgets. See https://ipywidgets.readthedocs.io/en/stable/user_install.html\n",
            "  from .autonotebook import tqdm as notebook_tqdm\n",
            "No model was supplied, defaulted to sshleifer/distilbart-cnn-12-6 (https://huggingface.co/sshleifer/distilbart-cnn-12-6)\n",
            "Your max_length is set to 142, but you input_length is only 47. You might consider decreasing max_length manually, e.g. summarizer('...', max_length=23)\n"
          ]
        }
      ],
      "source": [
        "from transformers import pipeline\n",
        "summarization=pipeline(\"summarization\")\n",
        "summary_text1=summarization(sentence1)[0][\"summary_text\"]"
      ]
    },
    {
      "cell_type": "code",
      "execution_count": 4,
      "metadata": {
        "colab": {
          "base_uri": "https://localhost:8080/"
        },
        "id": "LbgYrd5LLleF",
        "outputId": "0b740c35-2e5c-47d4-9df3-93d2487873ab"
      },
      "outputs": [
        {
          "name": "stderr",
          "output_type": "stream",
          "text": [
            "Your max_length is set to 142, but you input_length is only 50. You might consider decreasing max_length manually, e.g. summarizer('...', max_length=25)\n"
          ]
        }
      ],
      "source": [
        "summary_texta1=summarization(sentencea1)[0][\"summary_text\"]\n",
        "summary_text2=summarization(sentence2)[0][\"summary_text\"]"
      ]
    },
    {
      "cell_type": "code",
      "execution_count": 5,
      "metadata": {
        "colab": {
          "base_uri": "https://localhost:8080/"
        },
        "id": "khtF6rY7d2bZ",
        "outputId": "8fd73aba-8a87-4439-e697-7675043e82c7"
      },
      "outputs": [
        {
          "name": "stdout",
          "output_type": "stream",
          "text": [
            "Requirement already satisfied: sentence-transformers in c:\\users\\swapn\\appdata\\local\\programs\\python\\python39\\lib\\site-packages (2.2.0)\n",
            "Requirement already satisfied: numpy in c:\\users\\swapn\\appdata\\local\\programs\\python\\python39\\lib\\site-packages (from sentence-transformers) (1.22.4)\n",
            "Requirement already satisfied: tqdm in c:\\users\\swapn\\appdata\\local\\programs\\python\\python39\\lib\\site-packages (from sentence-transformers) (4.64.0)\n",
            "Requirement already satisfied: scipy in c:\\users\\swapn\\appdata\\local\\programs\\python\\python39\\lib\\site-packages (from sentence-transformers) (1.8.1)\n",
            "Requirement already satisfied: transformers<5.0.0,>=4.6.0 in c:\\users\\swapn\\appdata\\local\\programs\\python\\python39\\lib\\site-packages (from sentence-transformers) (4.19.2)\n",
            "Requirement already satisfied: scikit-learn in c:\\users\\swapn\\appdata\\local\\programs\\python\\python39\\lib\\site-packages (from sentence-transformers) (1.1.1)\n",
            "Requirement already satisfied: torch>=1.6.0 in c:\\users\\swapn\\appdata\\local\\programs\\python\\python39\\lib\\site-packages (from sentence-transformers) (1.11.0)\n",
            "Requirement already satisfied: nltk in c:\\users\\swapn\\appdata\\local\\programs\\python\\python39\\lib\\site-packages (from sentence-transformers) (3.7)\n",
            "Requirement already satisfied: sentencepiece in c:\\users\\swapn\\appdata\\local\\programs\\python\\python39\\lib\\site-packages (from sentence-transformers) (0.1.96)\n",
            "Requirement already satisfied: torchvision in c:\\users\\swapn\\appdata\\local\\programs\\python\\python39\\lib\\site-packages (from sentence-transformers) (0.12.0)\n",
            "Requirement already satisfied: huggingface-hub in c:\\users\\swapn\\appdata\\local\\programs\\python\\python39\\lib\\site-packages (from sentence-transformers) (0.6.0)\n",
            "Requirement already satisfied: typing-extensions in c:\\users\\swapn\\appdata\\local\\programs\\python\\python39\\lib\\site-packages (from torch>=1.6.0->sentence-transformers) (4.2.0)\n",
            "Requirement already satisfied: requests in c:\\users\\swapn\\appdata\\local\\programs\\python\\python39\\lib\\site-packages (from transformers<5.0.0,>=4.6.0->sentence-transformers) (2.27.1)\n",
            "Requirement already satisfied: tokenizers!=0.11.3,<0.13,>=0.11.1 in c:\\users\\swapn\\appdata\\local\\programs\\python\\python39\\lib\\site-packages (from transformers<5.0.0,>=4.6.0->sentence-transformers) (0.12.1)\n",
            "Requirement already satisfied: filelock in c:\\users\\swapn\\appdata\\local\\programs\\python\\python39\\lib\\site-packages (from transformers<5.0.0,>=4.6.0->sentence-transformers) (3.7.0)\n",
            "Requirement already satisfied: pyyaml>=5.1 in c:\\users\\swapn\\appdata\\local\\programs\\python\\python39\\lib\\site-packages (from transformers<5.0.0,>=4.6.0->sentence-transformers) (6.0)\n",
            "Requirement already satisfied: packaging>=20.0 in c:\\users\\swapn\\appdata\\local\\programs\\python\\python39\\lib\\site-packages (from transformers<5.0.0,>=4.6.0->sentence-transformers) (21.3)\n",
            "Requirement already satisfied: regex!=2019.12.17 in c:\\users\\swapn\\appdata\\local\\programs\\python\\python39\\lib\\site-packages (from transformers<5.0.0,>=4.6.0->sentence-transformers) (2022.4.24)\n",
            "Requirement already satisfied: pyparsing!=3.0.5,>=2.0.2 in c:\\users\\swapn\\appdata\\local\\programs\\python\\python39\\lib\\site-packages (from packaging>=20.0->transformers<5.0.0,>=4.6.0->sentence-transformers) (3.0.9)\n",
            "Requirement already satisfied: colorama in c:\\users\\swapn\\appdata\\local\\programs\\python\\python39\\lib\\site-packages (from tqdm->sentence-transformers) (0.4.4)\n",
            "Requirement already satisfied: joblib in c:\\users\\swapn\\appdata\\local\\programs\\python\\python39\\lib\\site-packages (from nltk->sentence-transformers) (1.1.0)\n",
            "Requirement already satisfied: click in c:\\users\\swapn\\appdata\\local\\programs\\python\\python39\\lib\\site-packages (from nltk->sentence-transformers) (8.1.3)\n",
            "Requirement already satisfied: idna<4,>=2.5 in c:\\users\\swapn\\appdata\\local\\programs\\python\\python39\\lib\\site-packages (from requests->transformers<5.0.0,>=4.6.0->sentence-transformers) (3.3)\n",
            "Requirement already satisfied: charset-normalizer~=2.0.0 in c:\\users\\swapn\\appdata\\local\\programs\\python\\python39\\lib\\site-packages (from requests->transformers<5.0.0,>=4.6.0->sentence-transformers) (2.0.12)\n",
            "Requirement already satisfied: urllib3<1.27,>=1.21.1 in c:\\users\\swapn\\appdata\\local\\programs\\python\\python39\\lib\\site-packages (from requests->transformers<5.0.0,>=4.6.0->sentence-transformers) (1.26.9)\n",
            "Requirement already satisfied: certifi>=2017.4.17 in c:\\users\\swapn\\appdata\\local\\programs\\python\\python39\\lib\\site-packages (from requests->transformers<5.0.0,>=4.6.0->sentence-transformers) (2022.5.18.1)\n",
            "Requirement already satisfied: threadpoolctl>=2.0.0 in c:\\users\\swapn\\appdata\\local\\programs\\python\\python39\\lib\\site-packages (from scikit-learn->sentence-transformers) (3.1.0)\n",
            "Requirement already satisfied: pillow!=8.3.*,>=5.3.0 in c:\\users\\swapn\\appdata\\local\\programs\\python\\python39\\lib\\site-packages (from torchvision->sentence-transformers) (9.1.1)\n",
            "Note: you may need to restart the kernel to use updated packages.\n"
          ]
        },
        {
          "name": "stderr",
          "output_type": "stream",
          "text": [
            "WARNING: You are using pip version 21.2.4; however, version 22.1.1 is available.\n",
            "You should consider upgrading via the 'c:\\Users\\swapn\\AppData\\Local\\Programs\\Python\\Python39\\python.exe -m pip install --upgrade pip' command.\n"
          ]
        }
      ],
      "source": [
        "pip install sentence-transformers"
      ]
    },
    {
      "cell_type": "code",
      "execution_count": 6,
      "metadata": {
        "id": "PF0Uo_lkd5BA"
      },
      "outputs": [],
      "source": [
        "from sentence_transformers import SentenceTransformer, util\n",
        "import numpy as np"
      ]
    },
    {
      "cell_type": "code",
      "execution_count": 7,
      "metadata": {
        "colab": {
          "base_uri": "https://localhost:8080/"
        },
        "id": "CSy4yBbed7WT",
        "outputId": "9b73d3d7-c124-4c52-a9ab-9042899f058e"
      },
      "outputs": [],
      "source": [
        "model = SentenceTransformer('stsb-roberta-large')"
      ]
    },
    {
      "cell_type": "markdown",
      "metadata": {
        "id": "HGV8bpcbuhrL"
      },
      "source": [
        "## **Semantic Similarity**"
      ]
    },
    {
      "cell_type": "code",
      "execution_count": 8,
      "metadata": {
        "colab": {
          "base_uri": "https://localhost:8080/"
        },
        "id": "thtCSzsid99W",
        "outputId": "28fddd32-ce6b-475e-a796-2f7a0225d86c"
      },
      "outputs": [
        {
          "name": "stdout",
          "output_type": "stream",
          "text": [
            "Sentence 1: Rowlatt Act gave the government enormous powers to suppress political activities and allowed detention of political prisoners without trial for two years. In other words, the Act proposed no appeal, no vakil and no daleel.\n",
            "Sentence 2: Supervised learning is the machine learning task of learning a function that\n",
            "         maps an input to an output based on example input-output pairs. It infers a\n",
            "         function from labeled training data consisting of a set of training examples.\n",
            "         In supervised learning, each example is a pair consisting of an input object\n",
            "         (typically a vector) and a desired output value (also called the supervisory signal). \n",
            "         A supervised learning algorithm analyzes the training data and produces an inferred function, \n",
            "         which can be used for mapping new examples. An optimal scenario will allow for the \n",
            "         algorithm to correctly determine the class labels for unseen instances. This requires \n",
            "         the learning algorithm to generalize from the training data to unseen situations in a \n",
            "         'reasonable' way (see inductive bias). encode sentences to get their embeddings\n",
            "Similarity score: 0.8624641299247742\n"
          ]
        }
      ],
      "source": [
        "embedding1 = model.encode(summary_text1, convert_to_tensor=True)\n",
        "embedding2 = model.encode(summary_texta1, convert_to_tensor=True)\n",
        "# compute similarity scores of two embeddings\n",
        "cosine_scores = util.pytorch_cos_sim(embedding1, embedding2)\n",
        "print(\"Sentence 1:\", sentence1)\n",
        "print(\"Sentence 2:\", sentence2)\n",
        "print(\"Similarity score:\", cosine_scores.item())\n",
        "scr=cosine_scores.item()"
      ]
    },
    {
      "cell_type": "markdown",
      "metadata": {
        "id": "FXxWDu8i5Ec7"
      },
      "source": [
        "# **Length Marks**"
      ]
    },
    {
      "cell_type": "code",
      "execution_count": 9,
      "metadata": {
        "id": "wNYmPN5deBcK"
      },
      "outputs": [],
      "source": [
        "marks=10\n",
        "m=sentence2.split()\n",
        "leng=10\n",
        "if(len(m)>leng):\n",
        "  lpntr=1\n",
        "else:\n",
        "  lpntr=0"
      ]
    },
    {
      "cell_type": "code",
      "execution_count": 10,
      "metadata": {
        "colab": {
          "base_uri": "https://localhost:8080/"
        },
        "id": "1v6YNffVtve0",
        "outputId": "3b438f51-224d-4d77-9850-8a8a12f28859"
      },
      "outputs": [
        {
          "data": {
            "text/plain": [
              "129"
            ]
          },
          "execution_count": 10,
          "metadata": {},
          "output_type": "execute_result"
        }
      ],
      "source": [
        "len(m)"
      ]
    },
    {
      "cell_type": "code",
      "execution_count": 11,
      "metadata": {
        "id": "AwA7ozCu4Hjz"
      },
      "outputs": [],
      "source": [
        "l=0.1*marks*lpntr"
      ]
    },
    {
      "cell_type": "code",
      "execution_count": 12,
      "metadata": {
        "colab": {
          "base_uri": "https://localhost:8080/"
        },
        "id": "ToICk5v_4wyN",
        "outputId": "ce2dc94e-859a-4f91-937e-539761c6665d"
      },
      "outputs": [
        {
          "data": {
            "text/plain": [
              "1.0"
            ]
          },
          "execution_count": 12,
          "metadata": {},
          "output_type": "execute_result"
        }
      ],
      "source": [
        "l"
      ]
    },
    {
      "cell_type": "markdown",
      "metadata": {
        "id": "LRaFiuq-6PD0"
      },
      "source": [
        "## **Semantic Marks**"
      ]
    },
    {
      "cell_type": "code",
      "execution_count": 13,
      "metadata": {
        "id": "8S8kVYEN4xZ-"
      },
      "outputs": [],
      "source": [
        "if scr<0.4:\n",
        "  spntr=0\n",
        "elif scr<0.7:\n",
        "  spntr=0.4\n",
        "elif scr<0.8:\n",
        "  spntr=0.6\n",
        "else:\n",
        "  spntr=1\n",
        "\n",
        "s=0.5*marks*spntr"
      ]
    },
    {
      "cell_type": "code",
      "execution_count": 14,
      "metadata": {
        "colab": {
          "base_uri": "https://localhost:8080/"
        },
        "id": "yX7kv_fS67zz",
        "outputId": "c95b02f9-48a1-4c62-f1fe-923856ea56c8"
      },
      "outputs": [
        {
          "data": {
            "text/plain": [
              "5.0"
            ]
          },
          "execution_count": 14,
          "metadata": {},
          "output_type": "execute_result"
        }
      ],
      "source": [
        "s"
      ]
    },
    {
      "cell_type": "code",
      "execution_count": null,
      "metadata": {
        "id": "egW5jEDorCzz"
      },
      "outputs": [],
      "source": []
    },
    {
      "cell_type": "markdown",
      "metadata": {
        "id": "0nYRBZBorBEC"
      },
      "source": [
        "## **Grammar Check**"
      ]
    },
    {
      "cell_type": "code",
      "execution_count": 15,
      "metadata": {
        "colab": {
          "base_uri": "https://localhost:8080/"
        },
        "id": "J5nDtACHrbco",
        "outputId": "304a3b9f-569e-415b-bd23-e282528637f4"
      },
      "outputs": [
        {
          "name": "stdout",
          "output_type": "stream",
          "text": [
            "Requirement already satisfied: language-tool-python in c:\\users\\swapn\\appdata\\local\\programs\\python\\python39\\lib\\site-packages (2.7.1)\n",
            "Requirement already satisfied: tqdm in c:\\users\\swapn\\appdata\\local\\programs\\python\\python39\\lib\\site-packages (from language-tool-python) (4.64.0)\n",
            "Requirement already satisfied: requests in c:\\users\\swapn\\appdata\\local\\programs\\python\\python39\\lib\\site-packages (from language-tool-python) (2.27.1)\n",
            "Requirement already satisfied: charset-normalizer~=2.0.0 in c:\\users\\swapn\\appdata\\local\\programs\\python\\python39\\lib\\site-packages (from requests->language-tool-python) (2.0.12)\n",
            "Requirement already satisfied: idna<4,>=2.5 in c:\\users\\swapn\\appdata\\local\\programs\\python\\python39\\lib\\site-packages (from requests->language-tool-python) (3.3)\n",
            "Requirement already satisfied: certifi>=2017.4.17 in c:\\users\\swapn\\appdata\\local\\programs\\python\\python39\\lib\\site-packages (from requests->language-tool-python) (2022.5.18.1)\n",
            "Requirement already satisfied: urllib3<1.27,>=1.21.1 in c:\\users\\swapn\\appdata\\local\\programs\\python\\python39\\lib\\site-packages (from requests->language-tool-python) (1.26.9)\n",
            "Requirement already satisfied: colorama in c:\\users\\swapn\\appdata\\local\\programs\\python\\python39\\lib\\site-packages (from tqdm->language-tool-python) (0.4.4)\n",
            "Note: you may need to restart the kernel to use updated packages.\n"
          ]
        },
        {
          "name": "stderr",
          "output_type": "stream",
          "text": [
            "WARNING: You are using pip version 21.2.4; however, version 22.1.1 is available.\n",
            "You should consider upgrading via the 'c:\\Users\\swapn\\AppData\\Local\\Programs\\Python\\Python39\\python.exe -m pip install --upgrade pip' command.\n"
          ]
        }
      ],
      "source": [
        "pip install language-tool-python"
      ]
    },
    {
      "cell_type": "code",
      "execution_count": 16,
      "metadata": {
        "colab": {
          "base_uri": "https://localhost:8080/"
        },
        "id": "U0VEGP6Z7hNq",
        "outputId": "1916a769-f7e6-44c4-8cef-70d754f33b7c"
      },
      "outputs": [
        {
          "name": "stdout",
          "output_type": "stream",
          "text": [
            "Supervised learning is the machine learning task of learning a function that\n",
            "         maps an input to an output based on example input-output pairs. It infers a\n",
            "         function from labeled training data consisting of a set of training examples.\n",
            " In supervised learning, each example is a pair consisting of an input object\n",
            "         (typically a vector) and a desired output value (also called the supervisory signal). \n",
            "         A supervised learning algorithm analyzes the training data and produces an inferred function, \n",
            "         which can be used for mapping new examples. An optimal scenario will allow for the \n",
            "         algorithm to correctly determine the class labels for unseen instances. This requires \n",
            "         the learning algorithm to generalize from the training data to unseen situations in a \n",
            "         'reasonable' way (see inductive bias). Encode sentences to get their embeddings\n"
          ]
        }
      ],
      "source": [
        "# importing the package  \n",
        "import language_tool_python  \n",
        "  \n",
        "# using the tool  \n",
        "my_tool = language_tool_python.LanguageTool('en-US')  \n",
        "\n",
        "\n",
        "# getting the matches  \n",
        "my_matches = my_tool.check(sentence2)  \n",
        "  \n",
        "# defining some variables  \n",
        "myMistakes = []  \n",
        "myCorrections = []  \n",
        "startPositions = []  \n",
        "endPositions = []  \n",
        "  \n",
        "# using the for-loop  \n",
        "for rules in my_matches:  \n",
        "    if len(rules.replacements) > 0:  \n",
        "        startPositions.append(rules.offset)  \n",
        "        endPositions.append(rules.errorLength + rules.offset)  \n",
        "        myMistakes.append(sentence2[rules.offset : rules.errorLength + rules.offset])  \n",
        "        myCorrections.append(rules.replacements[0])  \n",
        "  # creating new object  \n",
        "my_NewText = list(sentence2)   \n",
        "  \n",
        "# rewriting the correct passage  \n",
        "for n in range(len(startPositions)):  \n",
        "    for i in range(len(sentence2)):  \n",
        "        my_NewText[startPositions[n]] = myCorrections[n]  \n",
        "        if (i > startPositions[n] and i < endPositions[n]):  \n",
        "            my_NewText[i] = \"\"  \n",
        "  \n",
        "my_NewText = \"\".join(my_NewText)  \n",
        "  \n",
        "# printing the text  \n",
        "print(my_NewText)  "
      ]
    },
    {
      "cell_type": "code",
      "execution_count": 17,
      "metadata": {
        "colab": {
          "base_uri": "https://localhost:8080/"
        },
        "id": "9llIVQqSrY9U",
        "outputId": "e32855b4-a6dd-4e1c-ce57-a5c47a039bfa"
      },
      "outputs": [
        {
          "name": "stdout",
          "output_type": "stream",
          "text": [
            "[('         ', ' '), ('encode', 'Encode')]\n"
          ]
        }
      ],
      "source": [
        "print(list(zip(myMistakes, myCorrections)))  "
      ]
    },
    {
      "cell_type": "code",
      "execution_count": 18,
      "metadata": {
        "colab": {
          "base_uri": "https://localhost:8080/"
        },
        "id": "Spl4B4afsJTJ",
        "outputId": "517fd281-c8f9-4777-c406-0a3c60d7a114"
      },
      "outputs": [
        {
          "name": "stdout",
          "output_type": "stream",
          "text": [
            "2.0\n"
          ]
        }
      ],
      "source": [
        "ignr=1\n",
        "o=len(my_matches)-ignr\n",
        "if o>4:\n",
        "  lpntr=0\n",
        "elif o>3:\n",
        "  lpntr=0.25\n",
        "elif o>2:\n",
        "  lpntr=0.5\n",
        "elif o>1:\n",
        "  lpntr=0.75\n",
        "else:\n",
        "  lpntr=1\n",
        "\n",
        "g=marks*0.2*lpntr\n",
        "print(g)"
      ]
    },
    {
      "cell_type": "code",
      "execution_count": 19,
      "metadata": {
        "colab": {
          "base_uri": "https://localhost:8080/"
        },
        "id": "UwjVVxYhtIve",
        "outputId": "d6a95ca1-84d3-442c-dc6c-8cdbb7bd02c9"
      },
      "outputs": [
        {
          "data": {
            "text/plain": [
              "8.0"
            ]
          },
          "execution_count": 19,
          "metadata": {},
          "output_type": "execute_result"
        }
      ],
      "source": [
        "g+s+l"
      ]
    },
    {
      "cell_type": "code",
      "execution_count": 20,
      "metadata": {
        "colab": {
          "base_uri": "https://localhost:8080/"
        },
        "id": "hNfO2nE9tn0e",
        "outputId": "ab11adc4-9ba7-4172-da95-4055cf1bd1f9"
      },
      "outputs": [
        {
          "data": {
            "text/plain": [
              "5.0"
            ]
          },
          "execution_count": 20,
          "metadata": {},
          "output_type": "execute_result"
        }
      ],
      "source": [
        "s"
      ]
    },
    {
      "cell_type": "code",
      "execution_count": 21,
      "metadata": {
        "colab": {
          "base_uri": "https://localhost:8080/"
        },
        "id": "CF9Qbkq_tqEt",
        "outputId": "7d4b8e6c-cf26-4c5b-d94b-3ad669f10fd9"
      },
      "outputs": [
        {
          "data": {
            "text/plain": [
              "1.0"
            ]
          },
          "execution_count": 21,
          "metadata": {},
          "output_type": "execute_result"
        }
      ],
      "source": [
        "l"
      ]
    },
    {
      "cell_type": "markdown",
      "metadata": {
        "id": "Artk8TKBt6tY"
      },
      "source": [
        "## **Keyword**"
      ]
    },
    {
      "cell_type": "code",
      "execution_count": 22,
      "metadata": {
        "colab": {
          "base_uri": "https://localhost:8080/"
        },
        "id": "sQR3iI9htqba",
        "outputId": "90571456-1811-4283-e42c-337dacdeb506"
      },
      "outputs": [
        {
          "name": "stdout",
          "output_type": "stream",
          "text": [
            "Requirement already satisfied: keybert in c:\\users\\swapn\\appdata\\local\\programs\\python\\python39\\lib\\site-packages (0.5.1)\n",
            "Requirement already satisfied: numpy>=1.18.5 in c:\\users\\swapn\\appdata\\local\\programs\\python\\python39\\lib\\site-packages (from keybert) (1.22.4)\n",
            "Requirement already satisfied: scikit-learn>=0.22.2 in c:\\users\\swapn\\appdata\\local\\programs\\python\\python39\\lib\\site-packages (from keybert) (1.1.1)\n",
            "Requirement already satisfied: rich>=10.4.0 in c:\\users\\swapn\\appdata\\local\\programs\\python\\python39\\lib\\site-packages (from keybert) (12.4.1)\n",
            "Requirement already satisfied: sentence-transformers>=0.3.8 in c:\\users\\swapn\\appdata\\local\\programs\\python\\python39\\lib\\site-packages (from keybert) (2.2.0)\n",
            "Requirement already satisfied: pygments<3.0.0,>=2.6.0 in c:\\users\\swapn\\appdata\\local\\programs\\python\\python39\\lib\\site-packages (from rich>=10.4.0->keybert) (2.12.0)\n",
            "Requirement already satisfied: commonmark<0.10.0,>=0.9.0 in c:\\users\\swapn\\appdata\\local\\programs\\python\\python39\\lib\\site-packages (from rich>=10.4.0->keybert) (0.9.1)\n",
            "Requirement already satisfied: threadpoolctl>=2.0.0 in c:\\users\\swapn\\appdata\\local\\programs\\python\\python39\\lib\\site-packages (from scikit-learn>=0.22.2->keybert) (3.1.0)\n",
            "Requirement already satisfied: scipy>=1.3.2 in c:\\users\\swapn\\appdata\\local\\programs\\python\\python39\\lib\\site-packages (from scikit-learn>=0.22.2->keybert) (1.8.1)\n",
            "Requirement already satisfied: joblib>=1.0.0 in c:\\users\\swapn\\appdata\\local\\programs\\python\\python39\\lib\\site-packages (from scikit-learn>=0.22.2->keybert) (1.1.0)\n",
            "Requirement already satisfied: torchvision in c:\\users\\swapn\\appdata\\local\\programs\\python\\python39\\lib\\site-packages (from sentence-transformers>=0.3.8->keybert) (0.12.0)\n",
            "Requirement already satisfied: sentencepiece in c:\\users\\swapn\\appdata\\local\\programs\\python\\python39\\lib\\site-packages (from sentence-transformers>=0.3.8->keybert) (0.1.96)\n",
            "Requirement already satisfied: transformers<5.0.0,>=4.6.0 in c:\\users\\swapn\\appdata\\local\\programs\\python\\python39\\lib\\site-packages (from sentence-transformers>=0.3.8->keybert) (4.19.2)\n",
            "Requirement already satisfied: tqdm in c:\\users\\swapn\\appdata\\local\\programs\\python\\python39\\lib\\site-packages (from sentence-transformers>=0.3.8->keybert) (4.64.0)\n",
            "Requirement already satisfied: torch>=1.6.0 in c:\\users\\swapn\\appdata\\local\\programs\\python\\python39\\lib\\site-packages (from sentence-transformers>=0.3.8->keybert) (1.11.0)\n",
            "Requirement already satisfied: nltk in c:\\users\\swapn\\appdata\\local\\programs\\python\\python39\\lib\\site-packages (from sentence-transformers>=0.3.8->keybert) (3.7)\n",
            "Requirement already satisfied: huggingface-hub in c:\\users\\swapn\\appdata\\local\\programs\\python\\python39\\lib\\site-packages (from sentence-transformers>=0.3.8->keybert) (0.6.0)\n",
            "Requirement already satisfied: typing-extensions in c:\\users\\swapn\\appdata\\local\\programs\\python\\python39\\lib\\site-packages (from torch>=1.6.0->sentence-transformers>=0.3.8->keybert) (4.2.0)\n",
            "Requirement already satisfied: tokenizers!=0.11.3,<0.13,>=0.11.1 in c:\\users\\swapn\\appdata\\local\\programs\\python\\python39\\lib\\site-packages (from transformers<5.0.0,>=4.6.0->sentence-transformers>=0.3.8->keybert) (0.12.1)\n",
            "Requirement already satisfied: packaging>=20.0 in c:\\users\\swapn\\appdata\\local\\programs\\python\\python39\\lib\\site-packages (from transformers<5.0.0,>=4.6.0->sentence-transformers>=0.3.8->keybert) (21.3)\n",
            "Requirement already satisfied: filelock in c:\\users\\swapn\\appdata\\local\\programs\\python\\python39\\lib\\site-packages (from transformers<5.0.0,>=4.6.0->sentence-transformers>=0.3.8->keybert) (3.7.0)\n",
            "Requirement already satisfied: regex!=2019.12.17 in c:\\users\\swapn\\appdata\\local\\programs\\python\\python39\\lib\\site-packages (from transformers<5.0.0,>=4.6.0->sentence-transformers>=0.3.8->keybert) (2022.4.24)\n",
            "Requirement already satisfied: requests in c:\\users\\swapn\\appdata\\local\\programs\\python\\python39\\lib\\site-packages (from transformers<5.0.0,>=4.6.0->sentence-transformers>=0.3.8->keybert) (2.27.1)\n",
            "Requirement already satisfied: pyyaml>=5.1 in c:\\users\\swapn\\appdata\\local\\programs\\python\\python39\\lib\\site-packages (from transformers<5.0.0,>=4.6.0->sentence-transformers>=0.3.8->keybert) (6.0)\n",
            "Requirement already satisfied: pyparsing!=3.0.5,>=2.0.2 in c:\\users\\swapn\\appdata\\local\\programs\\python\\python39\\lib\\site-packages (from packaging>=20.0->transformers<5.0.0,>=4.6.0->sentence-transformers>=0.3.8->keybert) (3.0.9)\n",
            "Requirement already satisfied: colorama in c:\\users\\swapn\\appdata\\local\\programs\\python\\python39\\lib\\site-packages (from tqdm->sentence-transformers>=0.3.8->keybert) (0.4.4)\n",
            "Requirement already satisfied: click in c:\\users\\swapn\\appdata\\local\\programs\\python\\python39\\lib\\site-packages (from nltk->sentence-transformers>=0.3.8->keybert) (8.1.3)\n",
            "Requirement already satisfied: charset-normalizer~=2.0.0 in c:\\users\\swapn\\appdata\\local\\programs\\python\\python39\\lib\\site-packages (from requests->transformers<5.0.0,>=4.6.0->sentence-transformers>=0.3.8->keybert) (2.0.12)\n",
            "Requirement already satisfied: urllib3<1.27,>=1.21.1 in c:\\users\\swapn\\appdata\\local\\programs\\python\\python39\\lib\\site-packages (from requests->transformers<5.0.0,>=4.6.0->sentence-transformers>=0.3.8->keybert) (1.26.9)\n",
            "Requirement already satisfied: certifi>=2017.4.17 in c:\\users\\swapn\\appdata\\local\\programs\\python\\python39\\lib\\site-packages (from requests->transformers<5.0.0,>=4.6.0->sentence-transformers>=0.3.8->keybert) (2022.5.18.1)\n",
            "Requirement already satisfied: idna<4,>=2.5 in c:\\users\\swapn\\appdata\\local\\programs\\python\\python39\\lib\\site-packages (from requests->transformers<5.0.0,>=4.6.0->sentence-transformers>=0.3.8->keybert) (3.3)\n",
            "Requirement already satisfied: pillow!=8.3.*,>=5.3.0 in c:\\users\\swapn\\appdata\\local\\programs\\python\\python39\\lib\\site-packages (from torchvision->sentence-transformers>=0.3.8->keybert) (9.1.1)\n",
            "Note: you may need to restart the kernel to use updated packages.\n"
          ]
        },
        {
          "name": "stderr",
          "output_type": "stream",
          "text": [
            "WARNING: You are using pip version 21.2.4; however, version 22.1.1 is available.\n",
            "You should consider upgrading via the 'c:\\Users\\swapn\\AppData\\Local\\Programs\\Python\\Python39\\python.exe -m pip install --upgrade pip' command.\n"
          ]
        }
      ],
      "source": [
        "pip install keybert"
      ]
    },
    {
      "cell_type": "code",
      "execution_count": 23,
      "metadata": {
        "colab": {
          "base_uri": "https://localhost:8080/"
        },
        "id": "FVuCcKt4L5Os",
        "outputId": "df55c37e-d449-4054-94e4-18e87c116542"
      },
      "outputs": [
        {
          "name": "stdout",
          "output_type": "stream",
          "text": [
            "[('rowlatt', 0.4775), ('detention', 0.3295), ('act', 0.3083), ('appeal', 0.2852), ('prisoners', 0.2508)]\n",
            "[('rowlatt', 0.4469), ('act', 0.3049), ('appeal', 0.2689), ('prisoners', 0.252), ('restrict', 0.2428)]\n"
          ]
        }
      ],
      "source": [
        "from keybert import KeyBERT\n",
        "kw_model = KeyBERT()\n",
        "keywords1 = kw_model.extract_keywords(summary_text1)\n",
        "keywords2 = kw_model.extract_keywords(summary_texta1)\n",
        "print(keywords1)\n",
        "print(keywords2)"
      ]
    },
    {
      "cell_type": "code",
      "execution_count": 24,
      "metadata": {
        "id": "taH9jqvWRgg8"
      },
      "outputs": [],
      "source": [
        "v=[]\n",
        "d=[]\n",
        "for i in keywords1:\n",
        "  v.append(i[0])\n",
        "for j in keywords2:\n",
        "  d.append(j[0])"
      ]
    },
    {
      "cell_type": "code",
      "execution_count": 25,
      "metadata": {
        "id": "7wRv3HfKPPfz"
      },
      "outputs": [],
      "source": [
        "a_set = set(v)\n",
        "b_set = set(d)\n",
        "\n",
        "kk=list(set(v) & set(d))\n",
        "kk\n",
        "cnt=len(kk)\n",
        "if cnt-1<=len(keywords1):\n",
        "  kpntr=1\n",
        "elif cnt-3<=len(keywords1):\n",
        "  kpntr=0.8\n",
        "elif cnt-5<=len(keywords1):\n",
        "  kpntr=0.6\n",
        "else:\n",
        "  kpntr=0\n",
        "\n",
        "if cnt==0:\n",
        "  kpntr=0"
      ]
    },
    {
      "cell_type": "code",
      "execution_count": 26,
      "metadata": {
        "colab": {
          "base_uri": "https://localhost:8080/"
        },
        "id": "JrrSOQQmR6mI",
        "outputId": "529ecb44-5a6b-4d83-8fab-708bb30dc666"
      },
      "outputs": [
        {
          "data": {
            "text/plain": [
              "5"
            ]
          },
          "execution_count": 26,
          "metadata": {},
          "output_type": "execute_result"
        }
      ],
      "source": [
        "len(keywords1)"
      ]
    },
    {
      "cell_type": "code",
      "execution_count": 27,
      "metadata": {
        "colab": {
          "base_uri": "https://localhost:8080/"
        },
        "id": "T46RCoMCR8LA",
        "outputId": "3f4c717e-ed55-4f59-d4ea-fdfe997a60bd"
      },
      "outputs": [
        {
          "data": {
            "text/plain": [
              "4"
            ]
          },
          "execution_count": 27,
          "metadata": {},
          "output_type": "execute_result"
        }
      ],
      "source": [
        "cnt"
      ]
    },
    {
      "cell_type": "code",
      "execution_count": 28,
      "metadata": {
        "colab": {
          "base_uri": "https://localhost:8080/"
        },
        "id": "slwVLkijTgJx",
        "outputId": "d7145f9e-0c29-42d7-c722-137d104a4d62"
      },
      "outputs": [
        {
          "data": {
            "text/plain": [
              "['appeal', 'rowlatt', 'prisoners', 'act']"
            ]
          },
          "execution_count": 28,
          "metadata": {},
          "output_type": "execute_result"
        }
      ],
      "source": [
        "kk"
      ]
    },
    {
      "cell_type": "code",
      "execution_count": 29,
      "metadata": {
        "colab": {
          "base_uri": "https://localhost:8080/"
        },
        "id": "NJGMRZMeSTSO",
        "outputId": "602718be-7c70-48ea-f566-6d95f229b052"
      },
      "outputs": [
        {
          "data": {
            "text/plain": [
              "1"
            ]
          },
          "execution_count": 29,
          "metadata": {},
          "output_type": "execute_result"
        }
      ],
      "source": [
        "kpntr"
      ]
    },
    {
      "cell_type": "code",
      "execution_count": 30,
      "metadata": {
        "id": "JCMFxRr-MBSN"
      },
      "outputs": [],
      "source": [
        "k=kpntr*marks*0.2"
      ]
    },
    {
      "cell_type": "code",
      "execution_count": 31,
      "metadata": {
        "colab": {
          "base_uri": "https://localhost:8080/"
        },
        "id": "I4LeXhryMEAM",
        "outputId": "f73b9c0f-f862-4a01-e2fd-07afb2396df1"
      },
      "outputs": [
        {
          "data": {
            "text/plain": [
              "10.0"
            ]
          },
          "execution_count": 31,
          "metadata": {},
          "output_type": "execute_result"
        }
      ],
      "source": [
        "g+s+l+k"
      ]
    },
    {
      "cell_type": "code",
      "execution_count": 32,
      "metadata": {
        "id": "k0UZFD5-QBj7"
      },
      "outputs": [],
      "source": [
        "if s==0 or k==0:\n",
        "  fin=0"
      ]
    },
    {
      "cell_type": "code",
      "execution_count": 33,
      "metadata": {
        "colab": {
          "base_uri": "https://localhost:8080/"
        },
        "id": "-TOm0raPSQ47",
        "outputId": "b6b3b77c-e154-43a4-92fd-cc1fff9dcdbc"
      },
      "outputs": [
        {
          "data": {
            "text/plain": [
              "2.0"
            ]
          },
          "execution_count": 33,
          "metadata": {},
          "output_type": "execute_result"
        }
      ],
      "source": [
        "k"
      ]
    },
    {
      "cell_type": "code",
      "execution_count": 34,
      "metadata": {
        "colab": {
          "base_uri": "https://localhost:8080/"
        },
        "id": "8lZ5Y89xMpEk",
        "outputId": "c38b7ca2-d6d1-408a-d845-282f991433f5"
      },
      "outputs": [
        {
          "data": {
            "text/plain": [
              "2.0"
            ]
          },
          "execution_count": 34,
          "metadata": {},
          "output_type": "execute_result"
        }
      ],
      "source": [
        "g"
      ]
    },
    {
      "cell_type": "code",
      "execution_count": 35,
      "metadata": {
        "colab": {
          "base_uri": "https://localhost:8080/"
        },
        "id": "Vru-yAA6P0s6",
        "outputId": "3e607b77-2851-43c5-d42b-19dc0503986e"
      },
      "outputs": [
        {
          "data": {
            "text/plain": [
              "5.0"
            ]
          },
          "execution_count": 35,
          "metadata": {},
          "output_type": "execute_result"
        }
      ],
      "source": [
        "s"
      ]
    },
    {
      "cell_type": "code",
      "execution_count": 36,
      "metadata": {
        "colab": {
          "base_uri": "https://localhost:8080/"
        },
        "id": "kd1uwX5NP3LJ",
        "outputId": "dd1e8a0a-8ceb-41a8-b4b6-8708f6a0d3d6"
      },
      "outputs": [
        {
          "data": {
            "text/plain": [
              "1.0"
            ]
          },
          "execution_count": 36,
          "metadata": {},
          "output_type": "execute_result"
        }
      ],
      "source": [
        "l"
      ]
    },
    {
      "cell_type": "code",
      "execution_count": 37,
      "metadata": {
        "colab": {
          "base_uri": "https://localhost:8080/"
        },
        "id": "nQfrpIR3P3m7",
        "outputId": "3201b889-a895-4fb1-f60c-721ca4775f3a"
      },
      "outputs": [
        {
          "data": {
            "text/plain": [
              "2.0"
            ]
          },
          "execution_count": 37,
          "metadata": {},
          "output_type": "execute_result"
        }
      ],
      "source": [
        "k"
      ]
    },
    {
      "cell_type": "markdown",
      "metadata": {
        "id": "cH0B1BQfUgLK"
      },
      "source": [
        "### **Final Score**"
      ]
    },
    {
      "cell_type": "code",
      "execution_count": 38,
      "metadata": {
        "colab": {
          "base_uri": "https://localhost:8080/"
        },
        "id": "DGCUwnQ5P4Jj",
        "outputId": "09ad3385-2439-4468-8125-d99f26c2b617"
      },
      "outputs": [
        {
          "data": {
            "text/plain": [
              "10.0"
            ]
          },
          "execution_count": 38,
          "metadata": {},
          "output_type": "execute_result"
        }
      ],
      "source": [
        "fin=g+s+l+k\n",
        "fin"
      ]
    },
    {
      "cell_type": "code",
      "execution_count": null,
      "metadata": {
        "id": "8xLKexq7Ukc5"
      },
      "outputs": [],
      "source": []
    }
  ],
  "metadata": {
    "colab": {
      "name": "Final_Evaluation.ipynb",
      "provenance": []
    },
    "interpreter": {
      "hash": "049393ba2fd24c2112d2029e60e597fa268699ddfe5f015a2ac63f54cffe6337"
    },
    "kernelspec": {
      "display_name": "Python 3.9.10 64-bit",
      "language": "python",
      "name": "python3"
    },
    "language_info": {
      "codemirror_mode": {
        "name": "ipython",
        "version": 3
      },
      "file_extension": ".py",
      "mimetype": "text/x-python",
      "name": "python",
      "nbconvert_exporter": "python",
      "pygments_lexer": "ipython3",
      "version": "3.9.10"
    }
  },
  "nbformat": 4,
  "nbformat_minor": 0
}
